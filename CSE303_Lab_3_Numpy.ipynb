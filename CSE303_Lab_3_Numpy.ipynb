{
  "nbformat": 4,
  "nbformat_minor": 0,
  "metadata": {
    "colab": {
      "provenance": []
    },
    "kernelspec": {
      "name": "python3",
      "display_name": "Python 3"
    },
    "language_info": {
      "name": "python"
    }
  },
  "cells": [
    {
      "cell_type": "markdown",
      "source": [
        "# Data Science\n",
        "\n",
        "# Numpy Arrays\n",
        "\n",
        "**Getting started**\n",
        "\n",
        "**Create a NumPy ndarray Object**\n",
        "\n",
        "NumPy is used to work with arrays. The array object in NumPy is called ndarray.\n",
        "\n",
        "We can create a NumPy ndarray object by using the array() function."
      ],
      "metadata": {
        "id": "Sgtz-4bkhzPH"
      }
    },
    {
      "cell_type": "code",
      "execution_count": null,
      "metadata": {
        "id": "44NIZL37hpKD",
        "colab": {
          "base_uri": "https://localhost:8080/"
        },
        "outputId": "c8e57388-490b-4b79-afd3-948099826ebc"
      },
      "outputs": [
        {
          "output_type": "stream",
          "name": "stdout",
          "text": [
            "[1 2 3 4 5]\n",
            "<class 'numpy.ndarray'>\n"
          ]
        }
      ],
      "source": [
        "import numpy as np\n",
        "\n",
        "arr = np.array([1, 2, 3, 4, 5])\n",
        "\n",
        "print(arr)\n",
        "\n",
        "print(type(arr))"
      ]
    },
    {
      "cell_type": "markdown",
      "source": [
        "type(): This built-in Python function tells us the type of the object passed to it. Like in above code it shows that arr is numpy.ndarray type.\n",
        "\n",
        "\\\n",
        "\n",
        "To create an ndarray, we can pass a list, tuple or any array-like object into the array() method, and it will be converted into an ndarray:"
      ],
      "metadata": {
        "id": "2OXUeMDEiBAT"
      }
    },
    {
      "cell_type": "code",
      "source": [
        "# Use a tuple to create a NumPy array:\n",
        "\n",
        "import numpy as np\n",
        "\n",
        "arr = np.array((1, 2, 3, 4, 5))\n",
        "\n",
        "print(arr)"
      ],
      "metadata": {
        "id": "vvsOvzvJiIxU",
        "colab": {
          "base_uri": "https://localhost:8080/"
        },
        "outputId": "f9fb44f0-8961-4c96-ed34-bc5b2c8e4cb8"
      },
      "execution_count": null,
      "outputs": [
        {
          "output_type": "stream",
          "name": "stdout",
          "text": [
            "[1 2 3 4 5]\n"
          ]
        }
      ]
    },
    {
      "cell_type": "markdown",
      "source": [
        "**Dimensions in Arrays**\n",
        "\n",
        "A dimension in arrays is one level of array depth (nested arrays).\n",
        "\n",
        "\\\n",
        "**nested array:** are arrays that have arrays as their elements.\n",
        "\n",
        "\\\n",
        "**0-D Arrays**\n",
        "\n",
        "0-D arrays, or Scalars, are the elements in an array. Each value in an array is a 0-D array."
      ],
      "metadata": {
        "id": "EWSAIbkmiPEF"
      }
    },
    {
      "cell_type": "code",
      "source": [
        "# Create a 0-D array with value 42\n",
        "\n",
        "import numpy as np\n",
        "\n",
        "arr = np.array(42)\n",
        "\n",
        "print(arr)"
      ],
      "metadata": {
        "id": "raInK41_iedY",
        "colab": {
          "base_uri": "https://localhost:8080/"
        },
        "outputId": "71fc46f0-a5c8-4d47-c5a9-cf491d25b573"
      },
      "execution_count": null,
      "outputs": [
        {
          "output_type": "stream",
          "name": "stdout",
          "text": [
            "42\n"
          ]
        }
      ]
    },
    {
      "cell_type": "markdown",
      "source": [
        "**1-D Arrays**\n",
        "\n",
        "\\\n",
        "\n",
        "An array that has 0-D arrays as its elements is called uni-dimensional or 1-D array.\n",
        "\n",
        "These are the most common and basic arrays."
      ],
      "metadata": {
        "id": "_xU8lIe7iuOg"
      }
    },
    {
      "cell_type": "code",
      "source": [
        "# Create a 1-D array containing the values 1,2,3,4,5:\n",
        "\n",
        "import numpy as np\n",
        "\n",
        "arr = np.array([1, 2, 3, 4, 5])\n",
        "\n",
        "print(arr)"
      ],
      "metadata": {
        "id": "ATlRzS21itd-",
        "colab": {
          "base_uri": "https://localhost:8080/"
        },
        "outputId": "ebaf08e5-d2b0-4165-eed9-6df94749ce1b"
      },
      "execution_count": null,
      "outputs": [
        {
          "output_type": "stream",
          "name": "stdout",
          "text": [
            "[1 2 3 4 5]\n"
          ]
        }
      ]
    },
    {
      "cell_type": "markdown",
      "source": [
        "**2-D Arrays**\n",
        "\n",
        "\\\n",
        "\n",
        "An array that has 1-D arrays as its elements is called a 2-D array.\n",
        "\n",
        "These are often used to represent matrix or 2nd order tensors.\n",
        "\n",
        "NumPy has a whole sub module dedicated towards matrix operations called numpy.mat"
      ],
      "metadata": {
        "id": "IVTC4ti5jsO9"
      }
    },
    {
      "cell_type": "code",
      "source": [
        "# Create a 2-D array containing two arrays with the values 1,2,3 and 4,5,6:\n",
        "\n",
        "import numpy as np\n",
        "\n",
        "arr = np.array([[1, 2, 3], [4, 5, 6]])\n",
        "\n",
        "print(arr)"
      ],
      "metadata": {
        "id": "1UK1yY-gjypX",
        "colab": {
          "base_uri": "https://localhost:8080/"
        },
        "outputId": "a2f1f7bc-8a61-400b-97fa-548da1dc9963"
      },
      "execution_count": null,
      "outputs": [
        {
          "output_type": "stream",
          "name": "stdout",
          "text": [
            "[[1 2 3]\n",
            " [4 5 6]]\n"
          ]
        }
      ]
    },
    {
      "cell_type": "markdown",
      "source": [
        "**3-D arrays**\n",
        "\n",
        "\\\n",
        "\n",
        "An array that has 2-D arrays (matrices) as its elements is called 3-D array.\n",
        "\n",
        "These are often used to represent a 3rd order tensor."
      ],
      "metadata": {
        "id": "GRcFmY8Cj8TK"
      }
    },
    {
      "cell_type": "code",
      "source": [
        "# Create a 3-D array with two 2-D arrays, both containing two arrays with the values 1,2,3 and 4,5,6:\n",
        "\n",
        "import numpy as np\n",
        "\n",
        "arr = np.array([[[1, 2, 3], [4, 5, 6]], [[1, 2, 3], [4, 5, 6]]])\n",
        "\n",
        "print(arr)"
      ],
      "metadata": {
        "id": "3-GmEfY-kDs_",
        "colab": {
          "base_uri": "https://localhost:8080/"
        },
        "outputId": "cad8b0e5-1d84-4fb7-975b-3a63324c73e7"
      },
      "execution_count": null,
      "outputs": [
        {
          "output_type": "stream",
          "name": "stdout",
          "text": [
            "[[[1 2 3]\n",
            "  [4 5 6]]\n",
            "\n",
            " [[1 2 3]\n",
            "  [4 5 6]]]\n"
          ]
        }
      ]
    },
    {
      "cell_type": "markdown",
      "source": [
        "**Check Number of Dimensions?**\n",
        "\n",
        "\\\n",
        "NumPy Arrays provides the ndim attribute that returns an integer that tells us how many dimensions the array have."
      ],
      "metadata": {
        "id": "1uxGxW7ZkIE2"
      }
    },
    {
      "cell_type": "code",
      "source": [
        "# Check how many dimensions the arrays have: using ndim\n",
        "\n",
        "import numpy as np\n",
        "\n",
        "a = np.array(42)\n",
        "b = np.array([1, 2, 3, 4, 5])\n",
        "c = np.array([[1, 2, 3], [4, 5, 6]])\n",
        "d = np.array([[[1, 2, 3], [4, 5, 6]], [[1, 2, 3], [4, 5, 6]]])\n",
        "\n"
      ],
      "metadata": {
        "id": "hLwfo6zmkHE9"
      },
      "execution_count": null,
      "outputs": []
    },
    {
      "cell_type": "markdown",
      "source": [
        "**Higher Dimensional Arrays**\n",
        "\n",
        "\\\n",
        "\n",
        "An array can have any number of dimensions.\n",
        "\n",
        "When the array is created, you can define the number of dimensions by using the ndmin argument."
      ],
      "metadata": {
        "id": "ReqqbpG0kUFl"
      }
    },
    {
      "cell_type": "code",
      "source": [
        "# Create an array with 5 dimensions and verify that it has 5 dimensions:\n",
        "\n",
        "import numpy as np\n",
        "\n",
        "arr = np.array([1, 2, 3, 4], ndmin=5)\n",
        "\n",
        "print(arr)\n",
        "print('Number of dimensions :', arr.ndim)"
      ],
      "metadata": {
        "id": "v246qdPxkZZW",
        "colab": {
          "base_uri": "https://localhost:8080/"
        },
        "outputId": "0c64edfc-cdf1-493e-ef6c-845a25559068"
      },
      "execution_count": null,
      "outputs": [
        {
          "output_type": "stream",
          "name": "stdout",
          "text": [
            "[[[[[1 2 3 4]]]]]\n",
            "Number of dimensions : 5\n"
          ]
        }
      ]
    },
    {
      "cell_type": "markdown",
      "source": [
        "**Access Array Elements**\n",
        "\n",
        "Array indexing is the same as accessing an array element.\n",
        "\n",
        "You can access an array element by referring to its index number.\n",
        "\n",
        "The indexes in NumPy arrays start with 0, meaning that the first element has index 0, and the second has index 1 etc."
      ],
      "metadata": {
        "id": "MZnAx0NCkk86"
      }
    },
    {
      "cell_type": "code",
      "source": [
        "# Get third and fourth elements from the following array and add them.\n",
        "\n",
        "import numpy as np\n",
        "\n",
        "arr = np.array([1, 2, 3, 4])\n",
        "\n",
        "print(arr[2] + arr[3])"
      ],
      "metadata": {
        "id": "uqi0Gw69kth_",
        "colab": {
          "base_uri": "https://localhost:8080/"
        },
        "outputId": "8f2a5940-3bde-4f77-db90-3a613875516d"
      },
      "execution_count": null,
      "outputs": [
        {
          "output_type": "stream",
          "name": "stdout",
          "text": [
            "7\n"
          ]
        }
      ]
    },
    {
      "cell_type": "markdown",
      "source": [
        "**Access 2-D Arrays**\n",
        "\n",
        "To access elements from 2-D arrays we can use comma separated integers representing the dimension and the index of the element.\n",
        "\n",
        "Think of 2-D arrays like a table with rows and columns, where the row represents the dimension and the index represents the column."
      ],
      "metadata": {
        "id": "g9vXrsPEkwev"
      }
    },
    {
      "cell_type": "code",
      "source": [
        "# Access the element on the 2nd row, 5th column:\n",
        "\n",
        "import numpy as np\n",
        "\n",
        "arr = np.array([[1,2,3,4,5], [6,7,8,9,10]])\n",
        "\n",
        "# Code Here\n",
        "print(\"5th element on 2nd row:  \", arr[1,4])"
      ],
      "metadata": {
        "id": "M2Q_3h43kzaW",
        "colab": {
          "base_uri": "https://localhost:8080/"
        },
        "outputId": "b326924f-4561-43c8-c452-6cd58b9b7ec1"
      },
      "execution_count": 3,
      "outputs": [
        {
          "output_type": "stream",
          "name": "stdout",
          "text": [
            "5th element on 2nd row:   10\n"
          ]
        }
      ]
    },
    {
      "cell_type": "markdown",
      "source": [
        "**Access 3-D Arrays**\n",
        "\n",
        "To access elements from 3-D arrays we can use comma separated integers representing the dimensions and the index of the element."
      ],
      "metadata": {
        "id": "k-MTUecJk4Lt"
      }
    },
    {
      "cell_type": "code",
      "source": [
        "# Access the third element of the second array of the first array:\n",
        "\n",
        "import numpy as np\n",
        "\n",
        "arr = np.array([[[1, 2, 3], [4, 5, 6]], [[7, 8, 9], [10, 11, 12]]])\n",
        "\n",
        "# Code Here\n",
        "print(arr[0,1,2])"
      ],
      "metadata": {
        "id": "aLxx0ziuk82M",
        "colab": {
          "base_uri": "https://localhost:8080/"
        },
        "outputId": "5c26ddc6-27e7-4b02-cff4-0b995e018caf"
      },
      "execution_count": 5,
      "outputs": [
        {
          "output_type": "stream",
          "name": "stdout",
          "text": [
            "6\n"
          ]
        }
      ]
    },
    {
      "cell_type": "markdown",
      "source": [
        "**Negative Indexing**\n",
        "\n",
        "Use negative indexing to access an array from the end."
      ],
      "metadata": {
        "id": "YxWP2hVAlDgp"
      }
    },
    {
      "cell_type": "code",
      "source": [
        "# Print the last element from the 2nd dim:\n",
        "\n",
        "import numpy as np\n",
        "\n",
        "arr = np.array([[1,2,3,4,5], [6,7,8,9,10]])\n",
        "\n",
        "print('Last element from 2nd dim: ', arr[1, -1])"
      ],
      "metadata": {
        "id": "Mby4G25flFyd",
        "colab": {
          "base_uri": "https://localhost:8080/"
        },
        "outputId": "f5f49df1-66ae-4be5-9e89-11e129d2771a"
      },
      "execution_count": null,
      "outputs": [
        {
          "output_type": "stream",
          "name": "stdout",
          "text": [
            "Last element from 2nd dim:  10\n"
          ]
        }
      ]
    },
    {
      "cell_type": "markdown",
      "source": [
        "**Slicing arrays**\n",
        "\n",
        "Slicing in python means taking elements from one given index to another given index.\n",
        "\n",
        "We pass slice instead of index like this: [start:end].\n",
        "\n",
        "We can also define the step, like this: [start:end:step].\n",
        "\n",
        "If we don't pass start its considered 0\n",
        "\n",
        "If we don't pass end its considered length of array in that dimension\n",
        "\n",
        "If we don't pass step its considered 1"
      ],
      "metadata": {
        "id": "Go3rEZSQlNHH"
      }
    },
    {
      "cell_type": "code",
      "source": [
        "# Slice elements from index 4 to the end of the array:\n",
        "\n",
        "import numpy as np\n",
        "\n",
        "arr = np.array([1, 2, 3, 4, 5, 6, 7])\n",
        "\n",
        "print(arr[4:])"
      ],
      "metadata": {
        "id": "MlbkQ7hRlXg7",
        "colab": {
          "base_uri": "https://localhost:8080/"
        },
        "outputId": "7e56c5b8-98f1-4bc7-f5b3-36c2b796efa7"
      },
      "execution_count": null,
      "outputs": [
        {
          "output_type": "stream",
          "name": "stdout",
          "text": [
            "[5 6 7]\n"
          ]
        }
      ]
    },
    {
      "cell_type": "markdown",
      "source": [
        "**Negative Slicing**\n",
        "\n",
        "Use the minus operator to refer to an index from the end:"
      ],
      "metadata": {
        "id": "oGnpr_4rlac5"
      }
    },
    {
      "cell_type": "code",
      "source": [
        "# Slice from the index 3 from the end to index 1 from the end:\n",
        "\n",
        "import numpy as np\n",
        "\n",
        "arr = np.array([1, 2, 3, 4, 5, 6, 7])\n",
        "\n",
        "print(arr[-3:-1])"
      ],
      "metadata": {
        "id": "JD6X3UhKldYH",
        "colab": {
          "base_uri": "https://localhost:8080/"
        },
        "outputId": "896e2c8e-5133-44b5-9b8f-96f43902664e"
      },
      "execution_count": null,
      "outputs": [
        {
          "output_type": "stream",
          "name": "stdout",
          "text": [
            "[5 6]\n"
          ]
        }
      ]
    },
    {
      "cell_type": "markdown",
      "source": [
        "**STEP**\n",
        "\n",
        "Use the step value to determine the step of the slicing:"
      ],
      "metadata": {
        "id": "8rU68mTlljlf"
      }
    },
    {
      "cell_type": "code",
      "source": [
        "# Return every other element from index 1 to index 5:\n",
        "\n",
        "import numpy as np\n",
        "\n",
        "arr = np.array([1, 2, 3, 4, 5, 6, 7])\n",
        "\n",
        "print(arr[1:5:2])"
      ],
      "metadata": {
        "id": "zja09hD8lvRN",
        "colab": {
          "base_uri": "https://localhost:8080/"
        },
        "outputId": "0a6c8ed3-0016-4cb1-b1fb-ba734b5d1a35"
      },
      "execution_count": null,
      "outputs": [
        {
          "output_type": "stream",
          "name": "stdout",
          "text": [
            "[2 4]\n"
          ]
        }
      ]
    },
    {
      "cell_type": "markdown",
      "source": [
        "**Slicing 2-D Arrays**"
      ],
      "metadata": {
        "id": "np3kx4z8lxRu"
      }
    },
    {
      "cell_type": "code",
      "source": [
        "# From the second element, slice elements from index 1 to index 4 (not included):\n",
        "\n",
        "import numpy as np\n",
        "\n",
        "arr = np.array([[1, 2, 3, 4, 5], [6, 7, 8, 9, 10]])\n",
        "\n",
        "print(arr[1, 1:4])"
      ],
      "metadata": {
        "id": "f3oknCdal2ml",
        "colab": {
          "base_uri": "https://localhost:8080/"
        },
        "outputId": "09294eb1-2ff1-457c-a0e0-1fd7589c2c44"
      },
      "execution_count": null,
      "outputs": [
        {
          "output_type": "stream",
          "name": "stdout",
          "text": [
            "[7 8 9]\n"
          ]
        }
      ]
    },
    {
      "cell_type": "code",
      "source": [
        "# From both elements, return index 2:\n",
        "\n",
        "import numpy as np\n",
        "\n",
        "arr = np.array([[1, 2, 3, 4, 5], [6, 7, 8, 9, 10]])\n",
        "\n",
        "print(arr[0:2, 2])"
      ],
      "metadata": {
        "id": "NUgJPDeMl-ht",
        "colab": {
          "base_uri": "https://localhost:8080/"
        },
        "outputId": "83040177-4300-43f8-c388-74a4e646af84"
      },
      "execution_count": null,
      "outputs": [
        {
          "output_type": "stream",
          "name": "stdout",
          "text": [
            "[3 8]\n"
          ]
        }
      ]
    },
    {
      "cell_type": "code",
      "source": [
        "# From both elements, slice index 1 to index 4 (not included), this will return a 2-D array:\n",
        "\n",
        "import numpy as np\n",
        "\n",
        "arr = np.array([[1, 2, 3, 4, 5], [6, 7, 8, 9, 10]])\n",
        "\n",
        "# Code Here\n",
        "print(arr[0:3, 1:4])"
      ],
      "metadata": {
        "id": "9Shjo4g2mDDI",
        "colab": {
          "base_uri": "https://localhost:8080/"
        },
        "outputId": "6b29c680-e392-4639-ed8b-688bddd5f72c"
      },
      "execution_count": 6,
      "outputs": [
        {
          "output_type": "stream",
          "name": "stdout",
          "text": [
            "[[2 3 4]\n",
            " [7 8 9]]\n"
          ]
        }
      ]
    },
    {
      "cell_type": "markdown",
      "source": [
        "**Data Types in Python**\n",
        "\n",
        "By default Python have these data types:\n",
        "\n",
        "strings - used to represent text data, the text is given under quote marks. e.g. \"ABCD\"\n",
        "\n",
        "integer - used to represent integer numbers. e.g. -1, -2, -3\n",
        "\n",
        "float - used to represent real numbers. e.g. 1.2, 42.42\n",
        "\n",
        "boolean - used to represent True or False.\n",
        "\n",
        "complex - used to represent complex numbers. e.g. 1.0 + 2.0j, 1.5 + 2.5j"
      ],
      "metadata": {
        "id": "ticcdnUU7T8x"
      }
    },
    {
      "cell_type": "markdown",
      "source": [
        "**Data Types in NumPy**\n",
        "\n",
        "NumPy has some extra data types, and refer to data types with one character, like i for integers, u for unsigned integers etc.\n",
        "\n",
        "Below is a list of all data types in NumPy and the characters used to represent them.\n",
        "\n",
        "i - integer\n",
        "\n",
        "b - boolean\n",
        "\n",
        "u - unsigned integer\n",
        "\n",
        "f - float\n",
        "\n",
        "c - complex float\n",
        "\n",
        "m - timedelta\n",
        "\n",
        "M - datetime\n",
        "\n",
        "O - object\n",
        "\n",
        "S - string\n",
        "\n",
        "U - unicode string\n",
        "\n",
        "V - fixed chunk of memory for other type ( void )\n"
      ],
      "metadata": {
        "id": "-_bGBiPO7fnu"
      }
    },
    {
      "cell_type": "markdown",
      "source": [
        "**Checking the Data Type of an Array**\n",
        "\n",
        "The NumPy array object has a property called dtype that returns the data type of the array:\n",
        "\n"
      ],
      "metadata": {
        "id": "bRLUHfLP79Fi"
      }
    },
    {
      "cell_type": "code",
      "source": [
        "# Get the data type of an array object:\n",
        "\n",
        "import numpy as np\n",
        "\n",
        "arr = np.array([1, 2, 3, 4])\n",
        "\n",
        "print(arr.dtype)"
      ],
      "metadata": {
        "colab": {
          "base_uri": "https://localhost:8080/"
        },
        "id": "SzetAwMd7r62",
        "outputId": "db4e875d-8b01-4661-c649-fdc0ffc15e6a"
      },
      "execution_count": null,
      "outputs": [
        {
          "output_type": "stream",
          "name": "stdout",
          "text": [
            "int64\n"
          ]
        }
      ]
    },
    {
      "cell_type": "markdown",
      "source": [
        "**Creating Arrays With a Defined Data Type**\n",
        "\n",
        "We use the array() function to create arrays, this function can take an optional argument: dtype that allows us to define the expected data type of the array elements:"
      ],
      "metadata": {
        "id": "fqAqEZ687493"
      }
    },
    {
      "cell_type": "code",
      "source": [
        "# Create an array with data type string:\n",
        "\n",
        "import numpy as np\n",
        "\n",
        "arr = np.array([1, 2, 3, 4], dtype='S')\n",
        "\n",
        "print(arr)\n",
        "print(arr.dtype)"
      ],
      "metadata": {
        "colab": {
          "base_uri": "https://localhost:8080/"
        },
        "id": "9KzRnAms8GLC",
        "outputId": "e22a4954-7300-4f97-ed81-71b5b11c2070"
      },
      "execution_count": null,
      "outputs": [
        {
          "output_type": "stream",
          "name": "stdout",
          "text": [
            "[b'1' b'2' b'3' b'4']\n",
            "|S1\n"
          ]
        }
      ]
    },
    {
      "cell_type": "markdown",
      "source": [
        "**Converting Data Type on Existing Arrays**\n",
        "\n",
        "The best way to change the data type of an existing array, is to make a copy of the array with the astype() method.\n",
        "\n",
        "The astype() function creates a copy of the array, and allows you to specify the data type as a parameter.\n",
        "\n",
        "The data type can be specified using a string, like 'f' for float, 'i' for integer etc. or you can use the data type directly like float for float and int for integer."
      ],
      "metadata": {
        "id": "l3gzSDrP8VTZ"
      }
    },
    {
      "cell_type": "code",
      "source": [
        "# Change data type from float to integer by using 'i' as parameter value:\n",
        "\n",
        "import numpy as np\n",
        "\n",
        "arr = np.array([1.1, 2.1, 3.1])\n",
        "\n",
        "newarr = arr.astype('i')\n",
        "\n",
        "print(newarr)\n",
        "print(newarr.dtype)"
      ],
      "metadata": {
        "colab": {
          "base_uri": "https://localhost:8080/"
        },
        "id": "mZ2poOpm8YCx",
        "outputId": "79efdaed-c3c7-4d5a-a14e-76f6f660484e"
      },
      "execution_count": null,
      "outputs": [
        {
          "output_type": "stream",
          "name": "stdout",
          "text": [
            "[1 2 3]\n",
            "int32\n"
          ]
        }
      ]
    },
    {
      "cell_type": "markdown",
      "source": [
        "**The Difference Between Copy and View**\n",
        "\n",
        "The main difference between a copy and a view of an array is that the copy is a new array, and the view is just a view of the original array.\n",
        "\n",
        "The copy owns the data and any changes made to the copy will not affect original array, and any changes made to the original array will not affect the copy.\n",
        "\n",
        "The view does not own the data and any changes made to the view will affect the original array, and any changes made to the original array will affect the view."
      ],
      "metadata": {
        "id": "PHANW04t8fKt"
      }
    },
    {
      "cell_type": "code",
      "source": [
        "# Make a copy, change the original array, and display both arrays:\n",
        "\n",
        "import numpy as np\n",
        "\n",
        "arr = np.array([1, 2, 3, 4, 5])\n",
        "x = arr.copy()\n",
        "arr[0] = 42\n",
        "\n",
        "print(arr)\n",
        "print(x)"
      ],
      "metadata": {
        "colab": {
          "base_uri": "https://localhost:8080/"
        },
        "id": "2NGjH_XO8hRg",
        "outputId": "f7a7593d-fc39-47b9-d873-96b0a1762d27"
      },
      "execution_count": null,
      "outputs": [
        {
          "output_type": "stream",
          "name": "stdout",
          "text": [
            "[42  2  3  4  5]\n",
            "[1 2 3 4 5]\n"
          ]
        }
      ]
    },
    {
      "cell_type": "code",
      "source": [
        "# Make a view, change the original array, and display both arrays:\n",
        "\n",
        "import numpy as np\n",
        "\n",
        "arr = np.array([1, 2, 3, 4, 5])\n",
        "x = arr.view()\n",
        "arr[0] = 42\n",
        "\n",
        "print(arr)\n",
        "print(x)"
      ],
      "metadata": {
        "colab": {
          "base_uri": "https://localhost:8080/"
        },
        "id": "DrW-zjAP8mbl",
        "outputId": "ac74faa9-c45b-450a-e7a6-d33dc1029a8d"
      },
      "execution_count": null,
      "outputs": [
        {
          "output_type": "stream",
          "name": "stdout",
          "text": [
            "[42  2  3  4  5]\n",
            "[42  2  3  4  5]\n"
          ]
        }
      ]
    },
    {
      "cell_type": "markdown",
      "source": [
        "**Check if Array Owns its Data**\n",
        "\n",
        "As mentioned above, copies owns the data, and views does not own the data, but how can we check this?\n",
        "\n",
        "Every NumPy array has the attribute base that returns None if the array owns the data.\n",
        "\n",
        "Otherwise, the base  attribute refers to the original object."
      ],
      "metadata": {
        "id": "Z5kl6C_R8uOf"
      }
    },
    {
      "cell_type": "code",
      "source": [
        "# Print the value of the base attribute to check if an array owns it's data or not:\n",
        "\n",
        "import numpy as np\n",
        "\n",
        "arr = np.array([1, 2, 3, 4, 5])\n",
        "\n",
        "x = arr.copy()\n",
        "y = arr.view()\n",
        "\n",
        "print(x.base)\n",
        "print(y.base)"
      ],
      "metadata": {
        "colab": {
          "base_uri": "https://localhost:8080/"
        },
        "id": "y5VgLqZK8xGO",
        "outputId": "c32421ad-3f1e-4fd9-bfe6-9d39fdb6fbf0"
      },
      "execution_count": null,
      "outputs": [
        {
          "output_type": "stream",
          "name": "stdout",
          "text": [
            "None\n",
            "[1 2 3 4 5]\n"
          ]
        }
      ]
    },
    {
      "cell_type": "markdown",
      "source": [
        "**Shape of an Array**\n",
        "\n",
        "The shape of an array is the number of elements in each dimension.\n",
        "\n",
        "Get the Shape of an Array\n",
        "NumPy arrays have an attribute called shape that returns a tuple with each index having the number of corresponding elements."
      ],
      "metadata": {
        "id": "5ZR-i0fi83pN"
      }
    },
    {
      "cell_type": "code",
      "source": [
        "# Print the shape of a 2-D array:\n",
        "\n",
        "import numpy as np\n",
        "\n",
        "arr = np.array([[1, 2, 3, 4], [5, 6, 7, 8]])\n",
        "\n",
        "print(arr.shape)"
      ],
      "metadata": {
        "colab": {
          "base_uri": "https://localhost:8080/"
        },
        "id": "IGUkpMF087Qu",
        "outputId": "4bfcbce1-eaad-4300-e64a-418f96667d30"
      },
      "execution_count": null,
      "outputs": [
        {
          "output_type": "stream",
          "name": "stdout",
          "text": [
            "(2, 4)\n"
          ]
        }
      ]
    },
    {
      "cell_type": "markdown",
      "source": [
        "**Reshaping arrays**\n",
        "\n",
        "Reshaping means changing the shape of an array.\n",
        "\n",
        "The shape of an array is the number of elements in each dimension.\n",
        "\n",
        "By reshaping we can add or remove dimensions or change number of elements in each dimension.\n",
        "\n",
        "**Reshape From 1-D to 2-D**"
      ],
      "metadata": {
        "id": "--LUWpZ389SM"
      }
    },
    {
      "cell_type": "code",
      "source": [
        "# Convert the following 1-D array with 12 elements into a 2-D array.\n",
        "\n",
        "# The outermost dimension will have 4 arrays, each with 3 elements:\n",
        "\n",
        "import numpy as np\n",
        "\n",
        "arr = np.array([1, 2, 3, 4, 5, 6, 7, 8, 9, 10, 11, 12])\n",
        "\n",
        "newarr = arr.reshape(4, 3)\n",
        "\n",
        "print(newarr)"
      ],
      "metadata": {
        "colab": {
          "base_uri": "https://localhost:8080/"
        },
        "id": "TYo6OLiN9FFf",
        "outputId": "518d5c3d-c4a1-40c7-b7b6-ae0ae005e416"
      },
      "execution_count": null,
      "outputs": [
        {
          "output_type": "stream",
          "name": "stdout",
          "text": [
            "[[ 1  2  3]\n",
            " [ 4  5  6]\n",
            " [ 7  8  9]\n",
            " [10 11 12]]\n"
          ]
        }
      ]
    },
    {
      "cell_type": "markdown",
      "source": [
        "**Reshape From 1-D to 3-D**"
      ],
      "metadata": {
        "id": "viUjhFYC9H_p"
      }
    },
    {
      "cell_type": "code",
      "source": [
        "# Convert the following 1-D array with 12 elements into a 3-D array.\n",
        "\n",
        "# The outermost dimension will have 2 arrays that contains 3 arrays, each with 2 elements:\n",
        "\n",
        "import numpy as np\n",
        "\n",
        "arr = np.array([1, 2, 3, 4, 5, 6, 7, 8, 9, 10, 11, 12])\n",
        "\n",
        "# Code Here\n",
        "newarr = arr.reshape(2,3,2)\n",
        "print(newarr)"
      ],
      "metadata": {
        "id": "EVwD2Ojs9O0_",
        "colab": {
          "base_uri": "https://localhost:8080/"
        },
        "outputId": "c358727e-e851-426c-8175-ebb5bfd72317"
      },
      "execution_count": 8,
      "outputs": [
        {
          "output_type": "stream",
          "name": "stdout",
          "text": [
            "[[[ 1  2]\n",
            "  [ 3  4]\n",
            "  [ 5  6]]\n",
            "\n",
            " [[ 7  8]\n",
            "  [ 9 10]\n",
            "  [11 12]]]\n"
          ]
        }
      ]
    },
    {
      "cell_type": "markdown",
      "source": [
        "**Unknown Dimension**\n",
        "\n",
        "You are allowed to have one \"unknown\" dimension.\n",
        "\n",
        "Meaning that you do not have to specify an exact number for one of the dimensions in the reshape method.\n",
        "\n",
        "Pass -1 as the value, and NumPy will calculate this number for you."
      ],
      "metadata": {
        "id": "fYoQAPHM9XFl"
      }
    },
    {
      "cell_type": "code",
      "source": [
        "# Convert 1D array with 8 elements to 3D array with 2x2 elements:\n",
        "\n",
        "import numpy as np\n",
        "\n",
        "arr = np.array([1, 2, 3, 4, 5, 6, 7, 8])\n",
        "\n",
        "newarr = arr.reshape(2, 2, -1)\n",
        "\n",
        "print(newarr)"
      ],
      "metadata": {
        "colab": {
          "base_uri": "https://localhost:8080/"
        },
        "id": "66N7TFZV9R0q",
        "outputId": "4f2416f7-6dc8-40bb-eb22-4446c4d09c35"
      },
      "execution_count": null,
      "outputs": [
        {
          "output_type": "stream",
          "name": "stdout",
          "text": [
            "[[[1 2]\n",
            "  [3 4]]\n",
            "\n",
            " [[5 6]\n",
            "  [7 8]]]\n"
          ]
        }
      ]
    },
    {
      "cell_type": "markdown",
      "source": [
        "**Flattening the arrays**\n",
        "\n",
        "Flattening array means converting a multidimensional array into a 1D array.\n",
        "\n",
        "We can use reshape(-1) to do this."
      ],
      "metadata": {
        "id": "tf1zWwcD9dx8"
      }
    },
    {
      "cell_type": "code",
      "source": [
        "# Convert the array into a 1D array:\n",
        "\n",
        "import numpy as np\n",
        "\n",
        "arr = np.array([[1, 2, 3], [4, 5, 6]])\n",
        "\n",
        "newarr = arr.reshape(-1)\n",
        "\n",
        "print(newarr)"
      ],
      "metadata": {
        "colab": {
          "base_uri": "https://localhost:8080/"
        },
        "id": "cICrhxN49guZ",
        "outputId": "989dd9bc-f06c-4c34-bba5-8ebc18e6a89a"
      },
      "execution_count": null,
      "outputs": [
        {
          "output_type": "stream",
          "name": "stdout",
          "text": [
            "[1 2 3 4 5 6]\n"
          ]
        }
      ]
    },
    {
      "cell_type": "markdown",
      "source": [
        "**Iterating Arrays**\n",
        "\n",
        "Iterating means going through elements one by one.\n",
        "\n",
        "As we deal with multi-dimensional arrays in numpy, we can do this using basic for loop of python.\n",
        "\n",
        "If we iterate on a 1-D array it will go through each element one by one."
      ],
      "metadata": {
        "id": "C7c6lILM9nJL"
      }
    },
    {
      "cell_type": "code",
      "source": [
        "# Iterate on the elements of the following 1-D array:\n",
        "\n",
        "import numpy as np\n",
        "\n",
        "arr = np.array([1, 2, 3])\n",
        "\n",
        "for x in arr:\n",
        "  print(x)"
      ],
      "metadata": {
        "colab": {
          "base_uri": "https://localhost:8080/"
        },
        "id": "HD4-o0pW9omb",
        "outputId": "668c6627-0f5a-49ab-8219-4d56464fad58"
      },
      "execution_count": null,
      "outputs": [
        {
          "output_type": "stream",
          "name": "stdout",
          "text": [
            "1\n",
            "2\n",
            "3\n"
          ]
        }
      ]
    },
    {
      "cell_type": "code",
      "source": [
        "# Iterate on the elements of the following 2-D array:\n",
        "\n",
        "import numpy as np\n",
        "\n",
        "arr = np.array([[1, 2, 3], [4, 5, 6]])\n",
        "\n",
        "for x in arr:\n",
        "  print(x)"
      ],
      "metadata": {
        "id": "etmjPugP9t9C",
        "colab": {
          "base_uri": "https://localhost:8080/"
        },
        "outputId": "c47d27ce-bcd2-4803-b9b2-1c98a99aa5e3"
      },
      "execution_count": 12,
      "outputs": [
        {
          "output_type": "stream",
          "name": "stdout",
          "text": [
            "[1 2 3]\n",
            "[4 5 6]\n"
          ]
        }
      ]
    },
    {
      "cell_type": "code",
      "source": [
        "# Iterate on the elements of the following 3-D array:\n",
        "\n",
        "import numpy as np\n",
        "\n",
        "arr = np.array([[[1, 2, 3], [4, 5, 6]], [[7, 8, 9], [10, 11, 12]]])\n",
        "\n",
        "# Code Here\n",
        "for i  in arr:\n",
        "  for j in i:\n",
        "    print(j)"
      ],
      "metadata": {
        "colab": {
          "base_uri": "https://localhost:8080/"
        },
        "id": "6TY4RfcC90hh",
        "outputId": "4f142206-4e4b-4b7d-b963-7821b3783fc4"
      },
      "execution_count": 13,
      "outputs": [
        {
          "output_type": "stream",
          "name": "stdout",
          "text": [
            "[1 2 3]\n",
            "[4 5 6]\n",
            "[7 8 9]\n",
            "[10 11 12]\n"
          ]
        }
      ]
    },
    {
      "cell_type": "code",
      "source": [
        "# Iterate down to the scalars:\n",
        "\n",
        "import numpy as np\n",
        "\n",
        "arr = np.array([[[1, 2, 3], [4, 5, 6]], [[7, 8, 9], [10, 11, 12]]])\n",
        "\n",
        "# Code Here\n",
        "for i in arr:\n",
        "  for j in i:\n",
        "    print(j)"
      ],
      "metadata": {
        "id": "U2EUr1RX93Fs",
        "colab": {
          "base_uri": "https://localhost:8080/"
        },
        "outputId": "f7a8fde0-39f0-416a-8b69-f33bbf3ab23b"
      },
      "execution_count": 15,
      "outputs": [
        {
          "output_type": "stream",
          "name": "stdout",
          "text": [
            "[1 2 3]\n",
            "[4 5 6]\n",
            "[7 8 9]\n",
            "[10 11 12]\n"
          ]
        }
      ]
    },
    {
      "cell_type": "markdown",
      "source": [
        "**Iterating Arrays Using nditer()**\n",
        "\n",
        "The function nditer() is a helping function that can be used from very basic to very advanced iterations. It solves some basic issues which we face in iteration, lets go through it with examples.\n",
        "\n",
        "Iterating on Each Scalar Element\n",
        "In basic for loops, iterating through each scalar of an array we need to use n for loops which can be difficult to write for arrays with very high dimensionality."
      ],
      "metadata": {
        "id": "NUardqgP96zc"
      }
    },
    {
      "cell_type": "code",
      "source": [
        "# Iterate through the following 3-D array:\n",
        "\n",
        "import numpy as np\n",
        "\n",
        "arr = np.array([[[1, 2], [3, 4]], [[5, 6], [7, 8]]])\n",
        "\n",
        "for x in np.nditer(arr):\n",
        "  print(x)"
      ],
      "metadata": {
        "colab": {
          "base_uri": "https://localhost:8080/"
        },
        "id": "sI-TlVkA98z8",
        "outputId": "d6dab90f-2830-4c55-d0f8-8d8cc04382bd"
      },
      "execution_count": null,
      "outputs": [
        {
          "output_type": "stream",
          "name": "stdout",
          "text": [
            "1\n",
            "2\n",
            "3\n",
            "4\n",
            "5\n",
            "6\n",
            "7\n",
            "8\n"
          ]
        }
      ]
    },
    {
      "cell_type": "markdown",
      "source": [
        "**Iterating Array With Different Data Types**\n",
        "\n",
        "We can use op_dtypes argument and pass it the expected datatype to change the datatype of elements while iterating.\n",
        "\n",
        "NumPy does not change the data type of the element in-place (where the element is in array) so it needs some other space to perform this action, that extra space is called buffer, and in order to enable it in nditer() we pass flags=['buffered']."
      ],
      "metadata": {
        "id": "Qqh1x8KM-B0Y"
      }
    },
    {
      "cell_type": "code",
      "source": [
        "# Iterate through the array as a string:\n",
        "\n",
        "import numpy as np\n",
        "\n",
        "arr = np.array([1, 2, 3])\n",
        "\n",
        "for x in np.nditer(arr, flags=['buffered'], op_dtypes=['S']):\n",
        "  print(x)"
      ],
      "metadata": {
        "colab": {
          "base_uri": "https://localhost:8080/"
        },
        "id": "8nkS-Cuv-A9W",
        "outputId": "2586d626-957e-4cb5-b9ad-c6ecd9b42297"
      },
      "execution_count": null,
      "outputs": [
        {
          "output_type": "stream",
          "name": "stdout",
          "text": [
            "b'1'\n",
            "b'2'\n",
            "b'3'\n"
          ]
        }
      ]
    },
    {
      "cell_type": "markdown",
      "source": [
        "**Joining NumPy Arrays**\n",
        "\n",
        "Joining means putting contents of two or more arrays in a single array.\n",
        "\n",
        "In SQL we join tables based on a key, whereas in NumPy we join arrays by axes.\n",
        "\n",
        "We pass a sequence of arrays that we want to join to the concatenate() function, along with the axis. If axis is not explicitly passed, it is taken as 0."
      ],
      "metadata": {
        "id": "PFmBCLDR-Mi7"
      }
    },
    {
      "cell_type": "code",
      "source": [
        "# Join two arrays\n",
        "\n",
        "import numpy as np\n",
        "\n",
        "arr1 = np.array([1, 2, 3])\n",
        "\n",
        "arr2 = np.array([4, 5, 6])\n",
        "\n",
        "arr = np.concatenate((arr1, arr2))\n",
        "\n",
        "print(arr)"
      ],
      "metadata": {
        "colab": {
          "base_uri": "https://localhost:8080/"
        },
        "id": "xJsfr8ry-OJY",
        "outputId": "8bc2410e-8784-4293-ece2-e7df1ae5c645"
      },
      "execution_count": null,
      "outputs": [
        {
          "output_type": "stream",
          "name": "stdout",
          "text": [
            "[1 2 3 4 5 6]\n"
          ]
        }
      ]
    },
    {
      "cell_type": "code",
      "source": [
        "# Join two 2-D arrays along rows (axis=1):\n",
        "\n",
        "import numpy as np\n",
        "\n",
        "arr1 = np.array([[1, 2], [3, 4]])\n",
        "\n",
        "arr2 = np.array([[5, 6], [7, 8]])\n",
        "\n",
        "# Code Here\n",
        "arr = np.concatenate((arr1, arr2),1)\n",
        "print(arr)"
      ],
      "metadata": {
        "id": "eXGcd4jk-UQR",
        "colab": {
          "base_uri": "https://localhost:8080/"
        },
        "outputId": "4735b589-36c3-48b3-ddca-ebf45b4bf138"
      },
      "execution_count": 20,
      "outputs": [
        {
          "output_type": "stream",
          "name": "stdout",
          "text": [
            "[[1 2 5 6]\n",
            " [3 4 7 8]]\n"
          ]
        }
      ]
    },
    {
      "cell_type": "markdown",
      "source": [
        "**Joining Arrays Using Stack Functions**\n",
        "\n",
        "Stacking is same as concatenation, the only difference is that stacking is done along a new axis.\n",
        "\n",
        "We can concatenate two 1-D arrays along the second axis which would result in putting them one over the other, ie. stacking.\n",
        "\n",
        "We pass a sequence of arrays that we want to join to the stack() method along with the axis. If axis is not explicitly passed it is taken as 0."
      ],
      "metadata": {
        "id": "fhfqZ-jz-RHa"
      }
    },
    {
      "cell_type": "code",
      "source": [
        "import numpy as np\n",
        "\n",
        "arr1 = np.array([1, 2, 3])\n",
        "\n",
        "arr2 = np.array([4, 5, 6])\n",
        "\n",
        "arr = np.stack((arr1, arr2), axis=1)\n",
        "\n",
        "print(arr)"
      ],
      "metadata": {
        "colab": {
          "base_uri": "https://localhost:8080/"
        },
        "id": "d_jM5hCm-bIx",
        "outputId": "8d3e02d6-b2c9-4b7b-c5a6-949206b1a9e2"
      },
      "execution_count": null,
      "outputs": [
        {
          "output_type": "stream",
          "name": "stdout",
          "text": [
            "[[1 4]\n",
            " [2 5]\n",
            " [3 6]]\n"
          ]
        }
      ]
    },
    {
      "cell_type": "markdown",
      "source": [
        "**Stacking Along Rows**\n",
        "\n",
        "NumPy provides a helper function: hstack() to stack along rows."
      ],
      "metadata": {
        "id": "2QO-kSmG-e5D"
      }
    },
    {
      "cell_type": "code",
      "source": [
        "import numpy as np\n",
        "\n",
        "arr1 = np.array([1, 2, 3])\n",
        "\n",
        "arr2 = np.array([4, 5, 6])\n",
        "\n",
        "arr = np.hstack((arr1, arr2))\n",
        "\n",
        "print(arr)"
      ],
      "metadata": {
        "colab": {
          "base_uri": "https://localhost:8080/"
        },
        "id": "B6Gni0SC-iFw",
        "outputId": "e8da6767-c91c-45c5-a857-95b48f79576e"
      },
      "execution_count": null,
      "outputs": [
        {
          "output_type": "stream",
          "name": "stdout",
          "text": [
            "[1 2 3 4 5 6]\n"
          ]
        }
      ]
    },
    {
      "cell_type": "markdown",
      "source": [
        "**Stacking Along Columns**\n",
        "\n",
        "NumPy provides a helper function: vstack()  to stack along columns."
      ],
      "metadata": {
        "id": "KbzUwnh6-krZ"
      }
    },
    {
      "cell_type": "code",
      "source": [
        "import numpy as np\n",
        "\n",
        "arr1 = np.array([1, 2, 3])\n",
        "\n",
        "arr2 = np.array([4, 5, 6])\n",
        "\n",
        "arr = np.vstack((arr1, arr2))\n",
        "\n",
        "print(arr)"
      ],
      "metadata": {
        "colab": {
          "base_uri": "https://localhost:8080/"
        },
        "id": "Iy-54tfA-ovb",
        "outputId": "d8cbff2f-16b4-4780-c182-c647a7c45b6c"
      },
      "execution_count": null,
      "outputs": [
        {
          "output_type": "stream",
          "name": "stdout",
          "text": [
            "[[1 2 3]\n",
            " [4 5 6]]\n"
          ]
        }
      ]
    },
    {
      "cell_type": "markdown",
      "source": [
        "**Stacking Along Height (depth)**\n",
        "\n",
        "NumPy provides a helper function: dstack() to stack along height, which is the same as depth."
      ],
      "metadata": {
        "id": "F9_8uWnc-q-M"
      }
    },
    {
      "cell_type": "code",
      "source": [
        "import numpy as np\n",
        "\n",
        "arr1 = np.array([1, 2, 3])\n",
        "\n",
        "arr2 = np.array([4, 5, 6])\n",
        "\n",
        "arr = np.dstack((arr1, arr2))\n",
        "\n",
        "print(arr)"
      ],
      "metadata": {
        "colab": {
          "base_uri": "https://localhost:8080/"
        },
        "id": "4eEjgnCS-vTG",
        "outputId": "48eb451c-9221-4cd4-ad8d-5bf568d2c5cd"
      },
      "execution_count": null,
      "outputs": [
        {
          "output_type": "stream",
          "name": "stdout",
          "text": [
            "[[[1 4]\n",
            "  [2 5]\n",
            "  [3 6]]]\n"
          ]
        }
      ]
    },
    {
      "cell_type": "markdown",
      "source": [
        "**Splitting NumPy Arrays**\n",
        "\n",
        "Splitting is reverse operation of Joining.\n",
        "\n",
        "Joining merges multiple arrays into one and Splitting breaks one array into multiple.\n",
        "\n",
        "We use array_split() for splitting arrays, we pass it the array we want to split and the number of splits."
      ],
      "metadata": {
        "id": "GK0TSyzk-zOc"
      }
    },
    {
      "cell_type": "code",
      "source": [
        "# Split the array in 3 parts:\n",
        "\n",
        "import numpy as np\n",
        "\n",
        "arr = np.array([1, 2, 3, 4, 5, 6])\n",
        "\n",
        "newarr = np.array_split(arr, 3)\n",
        "\n",
        "print(newarr)"
      ],
      "metadata": {
        "colab": {
          "base_uri": "https://localhost:8080/"
        },
        "id": "VTxTcR26-1rk",
        "outputId": "889a83e1-8f2e-4725-f949-d75b6b81fabe"
      },
      "execution_count": null,
      "outputs": [
        {
          "output_type": "stream",
          "name": "stdout",
          "text": [
            "[array([1, 2]), array([3, 4]), array([5, 6])]\n"
          ]
        }
      ]
    },
    {
      "cell_type": "markdown",
      "source": [
        "**Split Into Arrays**\n",
        "\n",
        "The return value of the array_split() method is an array containing each of the split as an array.\n",
        "\n",
        "If you split an array into 3 arrays, you can access them from the result just like any array element:"
      ],
      "metadata": {
        "id": "io1zLCW_-5Co"
      }
    },
    {
      "cell_type": "code",
      "source": [
        "# Access the splitted arrays:\n",
        "\n",
        "import numpy as np\n",
        "\n",
        "arr = np.array([1, 2, 3, 4, 5, 6])\n",
        "\n",
        "# Code Here\n",
        "newarr = np.array_split(arr, 3)\n",
        "print(newarr)"
      ],
      "metadata": {
        "id": "NKSAzfn0-62z",
        "colab": {
          "base_uri": "https://localhost:8080/"
        },
        "outputId": "9a9a5581-ea0e-4bd4-9112-97a56540f6c0"
      },
      "execution_count": 22,
      "outputs": [
        {
          "output_type": "stream",
          "name": "stdout",
          "text": [
            "[array([1, 2]), array([3, 4]), array([5, 6])]\n"
          ]
        }
      ]
    },
    {
      "cell_type": "markdown",
      "source": [
        "**Splitting 2-D Arrays**\n",
        "\n",
        "Use the same syntax when splitting 2-D arrays.\n",
        "\n",
        "Use the array_split() method, pass in the array you want to split and the number of splits you want to do."
      ],
      "metadata": {
        "id": "0eSo48Q_-_xv"
      }
    },
    {
      "cell_type": "code",
      "source": [
        "# Split the 2-D array into three 2-D arrays.\n",
        "\n",
        "import numpy as np\n",
        "\n",
        "arr = np.array([[1, 2], [3, 4], [5, 6], [7, 8], [9, 10], [11, 12]])\n",
        "\n",
        "newarr = np.array_split(arr, 3)\n",
        "\n",
        "print(newarr)"
      ],
      "metadata": {
        "colab": {
          "base_uri": "https://localhost:8080/"
        },
        "id": "DBlK_xdg-_bH",
        "outputId": "443e07f1-215f-4bf0-c90f-fd27ec96de46"
      },
      "execution_count": null,
      "outputs": [
        {
          "output_type": "stream",
          "name": "stdout",
          "text": [
            "[array([[1, 2],\n",
            "       [3, 4]]), array([[5, 6],\n",
            "       [7, 8]]), array([[ 9, 10],\n",
            "       [11, 12]])]\n"
          ]
        }
      ]
    },
    {
      "cell_type": "markdown",
      "source": [
        "**Searching Arrays**\n",
        "\n",
        "You can search an array for a certain value, and return the indexes that get a match.\n",
        "\n",
        "To search an array, use the where() method."
      ],
      "metadata": {
        "id": "tsWsTC-y_GVB"
      }
    },
    {
      "cell_type": "code",
      "source": [
        "# Find the indexes where the value is 4:\n",
        "\n",
        "import numpy as np\n",
        "\n",
        "arr = np.array([1, 2, 3, 4, 5, 4, 4])\n",
        "\n",
        "x = np.where(arr == 4)\n",
        "\n",
        "print(x)"
      ],
      "metadata": {
        "colab": {
          "base_uri": "https://localhost:8080/"
        },
        "id": "TYqlNDZC_H2R",
        "outputId": "bb9b347c-81a4-4073-e1f1-88638c72efd3"
      },
      "execution_count": null,
      "outputs": [
        {
          "output_type": "stream",
          "name": "stdout",
          "text": [
            "(array([3, 5, 6]),)\n"
          ]
        }
      ]
    },
    {
      "cell_type": "markdown",
      "source": [
        "**Example**\n",
        "\n",
        "Find the indexes where the values are even:"
      ],
      "metadata": {
        "id": "ds6lgm_-_UKx"
      }
    },
    {
      "cell_type": "code",
      "source": [
        "import numpy as np\n",
        "\n",
        "arr = np.array([1, 2, 3, 4, 5, 6, 7, 8])\n",
        "\n",
        "# Code Here\n",
        "\n",
        "for i in range(arr.size):\n",
        "  if arr[i]%2==0:\n",
        "    print(i)\n"
      ],
      "metadata": {
        "id": "A1xQ1j3k_TKy",
        "colab": {
          "base_uri": "https://localhost:8080/"
        },
        "outputId": "8cf9b0ba-8204-4bf2-ef9c-41f3207faf83"
      },
      "execution_count": 27,
      "outputs": [
        {
          "output_type": "stream",
          "name": "stdout",
          "text": [
            "1\n",
            "3\n",
            "5\n",
            "7\n"
          ]
        }
      ]
    },
    {
      "cell_type": "markdown",
      "source": [
        "**Search Sorted**\n",
        "\n",
        "There is a method called searchsorted() which performs a binary search in the array, and returns the index where the specified value would be inserted to maintain the search order."
      ],
      "metadata": {
        "id": "PK93_LJG_dut"
      }
    },
    {
      "cell_type": "code",
      "source": [
        "# Find the indexes where the value 7 should be inserted:\n",
        "\n",
        "import numpy as np\n",
        "\n",
        "arr = np.array([6, 7, 8, 9])\n",
        "\n",
        "x = np.searchsorted(arr, 7)\n",
        "\n",
        "print(x)"
      ],
      "metadata": {
        "colab": {
          "base_uri": "https://localhost:8080/"
        },
        "id": "MQZzqnBY_gN5",
        "outputId": "7ba71e63-bd83-4dea-e591-e84e5cc4e569"
      },
      "execution_count": null,
      "outputs": [
        {
          "output_type": "stream",
          "name": "stdout",
          "text": [
            "1\n"
          ]
        }
      ]
    },
    {
      "cell_type": "markdown",
      "source": [
        "**Sorting Arrays**\n",
        "\n",
        "Sorting means putting elements in an ordered sequence.\n",
        "\n",
        "Ordered sequence is any sequence that has an order corresponding to elements, like numeric or alphabetical, ascending or descending.\n",
        "\n",
        "The NumPy ndarray object has a function called sort(), that will sort a specified array."
      ],
      "metadata": {
        "id": "dbAvkTFT_sVl"
      }
    },
    {
      "cell_type": "code",
      "source": [
        "# Sort the array:\n",
        "\n",
        "import numpy as np\n",
        "\n",
        "arr = np.array([3, 2, 0, 1])\n",
        "\n",
        "print(np.sort(arr))"
      ],
      "metadata": {
        "colab": {
          "base_uri": "https://localhost:8080/"
        },
        "id": "dcfKmKfN_r1l",
        "outputId": "2cab1057-0e7e-4611-ebaf-539454e22490"
      },
      "execution_count": null,
      "outputs": [
        {
          "output_type": "stream",
          "name": "stdout",
          "text": [
            "[0 1 2 3]\n"
          ]
        }
      ]
    },
    {
      "cell_type": "code",
      "source": [
        "# Sort the array alphabetically:\n",
        "\n",
        "import numpy as np\n",
        "\n",
        "arr = np.array(['banana', 'cherry', 'apple'])\n",
        "\n",
        "# Code Here\n",
        "print(np.sort(arr))"
      ],
      "metadata": {
        "id": "XcZEICLm_0RC",
        "colab": {
          "base_uri": "https://localhost:8080/"
        },
        "outputId": "6f224e64-c629-42b0-e923-856e88a8b10b"
      },
      "execution_count": 28,
      "outputs": [
        {
          "output_type": "stream",
          "name": "stdout",
          "text": [
            "['apple' 'banana' 'cherry']\n"
          ]
        }
      ]
    },
    {
      "cell_type": "markdown",
      "source": [
        "**Sorting a 2-D Array**\n",
        "\n",
        "If you use the sort() method on a 2-D array, both arrays will be sorted:"
      ],
      "metadata": {
        "id": "wdvl-Vn6_40M"
      }
    },
    {
      "cell_type": "code",
      "source": [
        "# Sort a 2-D array:\n",
        "\n",
        "import numpy as np\n",
        "\n",
        "arr = np.array([[3, 2, 4], [5, 0, 1]])\n",
        "\n",
        "print(np.sort(arr))"
      ],
      "metadata": {
        "colab": {
          "base_uri": "https://localhost:8080/"
        },
        "id": "SnXBXMlO_7bd",
        "outputId": "b0280bc1-d157-46ac-bb68-3d73de660a50"
      },
      "execution_count": null,
      "outputs": [
        {
          "output_type": "stream",
          "name": "stdout",
          "text": [
            "[[2 3 4]\n",
            " [0 1 5]]\n"
          ]
        }
      ]
    },
    {
      "cell_type": "markdown",
      "source": [
        "**Filtering Arrays**\n",
        "\n",
        "Getting some elements out of an existing array and creating a new array out of them is called filtering.\n",
        "\n",
        "In NumPy, you filter an array using a boolean index list."
      ],
      "metadata": {
        "id": "MD_trYfnABdS"
      }
    },
    {
      "cell_type": "code",
      "source": [
        "# Create an array from the elements on index 0 and 2:\n",
        "\n",
        "import numpy as np\n",
        "\n",
        "arr = np.array([41, 42, 43, 44])\n",
        "\n",
        "x = [True, False, True, False]\n",
        "\n",
        "newarr = arr[x]\n",
        "\n",
        "print(newarr)"
      ],
      "metadata": {
        "colab": {
          "base_uri": "https://localhost:8080/"
        },
        "id": "8oOQlIYQAFOE",
        "outputId": "7322f5ad-6c26-41d3-b9ee-052b6cad57db"
      },
      "execution_count": null,
      "outputs": [
        {
          "output_type": "stream",
          "name": "stdout",
          "text": [
            "[41 43]\n"
          ]
        }
      ]
    },
    {
      "cell_type": "markdown",
      "source": [
        "**Creating the Filter Array**\n",
        "\n",
        "In the example above we hard-coded the True and False values, but the common use is to create a filter array based on conditions."
      ],
      "metadata": {
        "id": "Jk_ZwopTAIdj"
      }
    },
    {
      "cell_type": "code",
      "source": [
        "# Create a filter array that will return only values higher than 42:\n",
        "\n",
        "import numpy as np\n",
        "\n",
        "arr = np.array([41, 42, 43, 44])\n",
        "\n",
        "# Create an empty list\n",
        "filter_arr = []\n",
        "\n",
        "# go through each element in arr\n",
        "for element in arr:\n",
        "  # if the element is higher than 42, set the value to True, otherwise False:\n",
        "  if element > 42:\n",
        "    filter_arr.append(True)\n",
        "  else:\n",
        "    filter_arr.append(False)\n",
        "\n",
        "newarr = arr[filter_arr]\n",
        "\n",
        "print(filter_arr)\n",
        "print(newarr)"
      ],
      "metadata": {
        "colab": {
          "base_uri": "https://localhost:8080/"
        },
        "id": "ZWL-6FDjAKOt",
        "outputId": "a415c099-ba8d-4bcd-9c1d-a6256452b2da"
      },
      "execution_count": null,
      "outputs": [
        {
          "output_type": "stream",
          "name": "stdout",
          "text": [
            "[False, False, True, True]\n",
            "[43 44]\n"
          ]
        }
      ]
    },
    {
      "cell_type": "code",
      "source": [
        "# Example\n",
        "# Create a filter array that will return only even elements from the original array:\n",
        "\n",
        "import numpy as np\n",
        "\n",
        "arr = np.array([1, 2, 3, 4, 5, 6, 7])\n",
        "\n",
        "# Create an empty list\n",
        "filter_arr = []\n",
        "\n",
        "# go through each element in arr\n",
        "for element in arr:\n",
        "  # if the element is completely divisble by 2, set the value to True, otherwise False\n",
        "  if element % 2 == 0:\n",
        "    filter_arr.append(True)\n",
        "  else:\n",
        "    filter_arr.append(False)\n",
        "\n",
        "newarr = arr[filter_arr]\n",
        "\n",
        "print(filter_arr)\n",
        "print(newarr)"
      ],
      "metadata": {
        "colab": {
          "base_uri": "https://localhost:8080/"
        },
        "id": "NQfKq4zdASEk",
        "outputId": "96ccfb48-de30-47e6-f568-284fd7002836"
      },
      "execution_count": null,
      "outputs": [
        {
          "output_type": "stream",
          "name": "stdout",
          "text": [
            "[False, True, False, True, False, True, False]\n",
            "[2 4 6]\n"
          ]
        }
      ]
    },
    {
      "cell_type": "markdown",
      "source": [
        "**Creating Filter Directly From Array**\n",
        "\n",
        "The above example is quite a common task in NumPy and NumPy provides a nice way to tackle it.\n",
        "\n",
        "We can directly substitute the array instead of the iterable variable in our condition and it will work just as we expect it to."
      ],
      "metadata": {
        "id": "d3rpvTsxAVmk"
      }
    },
    {
      "cell_type": "code",
      "source": [
        "# Create a filter array that will return only values higher than 42:\n",
        "\n",
        "import numpy as np\n",
        "\n",
        "arr = np.array([41, 42, 43, 44])\n",
        "\n",
        "filter_arr = arr > 42\n",
        "\n",
        "newarr = arr[filter_arr]\n",
        "\n",
        "print(filter_arr)\n",
        "print(newarr)"
      ],
      "metadata": {
        "colab": {
          "base_uri": "https://localhost:8080/"
        },
        "id": "-89jo6Z0AZco",
        "outputId": "fda89088-dde2-459e-cf40-ed9851e5651c"
      },
      "execution_count": null,
      "outputs": [
        {
          "output_type": "stream",
          "name": "stdout",
          "text": [
            "[False False  True  True]\n",
            "[43 44]\n"
          ]
        }
      ]
    },
    {
      "cell_type": "code",
      "source": [
        "# Create a filter array that will return only even elements from the original array:\n",
        "\n",
        "import numpy as np\n",
        "\n",
        "arr = np.array([1, 2, 3, 4, 5, 6, 7])\n",
        "\n",
        "# Code Here\n",
        "newarr = []\n",
        "for i in range(arr.size):\n",
        "  if arr[i]%2==0:\n",
        "    newarr.append(arr[i])\n",
        "print(newarr)"
      ],
      "metadata": {
        "id": "z9wX11c8Ab1T",
        "colab": {
          "base_uri": "https://localhost:8080/"
        },
        "outputId": "2d9d103b-f9d3-4211-f48a-9b9f4e2166c8"
      },
      "execution_count": 29,
      "outputs": [
        {
          "output_type": "stream",
          "name": "stdout",
          "text": [
            "[2, 4, 6]\n"
          ]
        }
      ]
    },
    {
      "cell_type": "markdown",
      "source": [
        "**Random Numbers in NumPy**\n",
        "\n",
        "\\\n",
        "\n",
        "**What is a Random Number?**\n",
        "\n",
        "Random number does NOT mean a different number every time. Random means something that can not be predicted logically.\n",
        "\n",
        "\\\n",
        "\n",
        "**Pseudo Random and True Random.**\n",
        "Computers work on programs, and programs are definitive set of instructions. So it means there must be some algorithm to generate a random number as well.\n",
        "\n",
        "If there is a program to generate random number it can be predicted, thus it is not truly random.\n",
        "\n",
        "Random numbers generated through a generation algorithm are called pseudo random.\n",
        "\n",
        "\\\n",
        "\n",
        "Can we make truly random numbers?\n",
        "\n",
        "Yes. In order to generate a truly random number on our computers we need to get the random data from some outside source. This outside source is generally our keystrokes, mouse movements, data on network etc.\n",
        "\n",
        "We do not need truly random numbers, unless its related to security (e.g. encryption keys) or the basis of application is the randomness (e.g. Digital roulette wheels).\n",
        "\n",
        "In this tutorial we will be using pseudo random numbers.\n",
        "\n",
        "\\\n",
        "\n",
        "**Generate Random Number**\n",
        "\n",
        "NumPy offers the random module to work with random numbers."
      ],
      "metadata": {
        "id": "RYyUQ7foA0qj"
      }
    },
    {
      "cell_type": "code",
      "source": [
        "# Generate a random integer from 0 to 100:\n",
        "\n",
        "from numpy import random\n",
        "\n",
        "x = random.randint(100)\n",
        "\n",
        "print(x)"
      ],
      "metadata": {
        "colab": {
          "base_uri": "https://localhost:8080/"
        },
        "id": "TAovOpaPBF4h",
        "outputId": "09efd859-e310-4dd6-8dc8-303e96a401b3"
      },
      "execution_count": null,
      "outputs": [
        {
          "output_type": "stream",
          "name": "stdout",
          "text": [
            "71\n"
          ]
        }
      ]
    },
    {
      "cell_type": "markdown",
      "source": [
        "**Generate Random Array**\n",
        "\n",
        "In NumPy we work with arrays, and you can use the two methods from the above examples to make random arrays.\n",
        "\n",
        "Integers\n",
        "The randint() method takes a size parameter where you can specify the shape of an array."
      ],
      "metadata": {
        "id": "BVNrRFIVBKIN"
      }
    },
    {
      "cell_type": "code",
      "source": [
        "# Generate a 1-D array containing 5 random integers from 0 to 100:\n",
        "\n",
        "from numpy import random\n",
        "\n",
        "x=random.randint(100, size=(5))\n",
        "\n",
        "print(x)"
      ],
      "metadata": {
        "colab": {
          "base_uri": "https://localhost:8080/"
        },
        "id": "QDy3fUAzBQa0",
        "outputId": "5ffdf95f-322c-47db-e79e-65df8b08d96b"
      },
      "execution_count": null,
      "outputs": [
        {
          "output_type": "stream",
          "name": "stdout",
          "text": [
            "[14 66 51  6 29]\n"
          ]
        }
      ]
    },
    {
      "cell_type": "markdown",
      "source": [
        "**Generate Random Number From Array**\n",
        "\n",
        "The choice() method allows you to generate a random value based on an array of values.\n",
        "\n",
        "The choice() method takes an array as a parameter and randomly returns one of the values."
      ],
      "metadata": {
        "id": "FFRjcwwjBVUP"
      }
    },
    {
      "cell_type": "code",
      "source": [
        "# Return one of the values in an array:\n",
        "\n",
        "from numpy import random\n",
        "\n",
        "x = random.choice([3, 5, 7, 9])\n",
        "\n",
        "print(x)"
      ],
      "metadata": {
        "colab": {
          "base_uri": "https://localhost:8080/"
        },
        "id": "Kb6vCEGVBX-w",
        "outputId": "abc41777-f098-4d95-eb21-72973603bc94"
      },
      "execution_count": null,
      "outputs": [
        {
          "output_type": "stream",
          "name": "stdout",
          "text": [
            "3\n"
          ]
        }
      ]
    },
    {
      "cell_type": "markdown",
      "source": [
        "**Random Data Distribution**\n",
        "\n",
        "\\\n",
        "\n",
        "**What is Data Distribution?**\n",
        "\n",
        "Data Distribution is a list of all possible values, and how often each value occurs.\n",
        "\n",
        "Such lists are important when working with statistics and data science.\n",
        "\n",
        "The random module offer methods that returns randomly generated data distributions.\n",
        "\n",
        "\\\n",
        "\n",
        "**Random Distribution**\n",
        "\n",
        "A random distribution is a set of random numbers that follow a certain probability density function.\n",
        "\n",
        "Probability Density Function: A function that describes a continuous probability. i.e. probability of all values in an array.\n",
        "\n",
        "We can generate random numbers based on defined probabilities using the choice() method of the random module.\n",
        "\n",
        "The choice() method allows us to specify the probability for each value.\n",
        "\n",
        "The probability is set by a number between 0 and 1, where 0 means that the value will never occur and 1 means that the value will always occur."
      ],
      "metadata": {
        "id": "-jbS9EyuBb-S"
      }
    },
    {
      "cell_type": "code",
      "source": [
        "# Generate a 1-D array containing 100 values, where each value has to be 3, 5, 7 or 9.\n",
        "\n",
        "# The probability for the value to be 3 is set to be 0.1\n",
        "\n",
        "# The probability for the value to be 5 is set to be 0.3\n",
        "\n",
        "# The probability for the value to be 7 is set to be 0.6\n",
        "\n",
        "# The probability for the value to be 9 is set to be 0\n",
        "\n",
        "from numpy import random\n",
        "\n",
        "x = random.choice([3, 5, 7, 9], p=[0.1, 0.3, 0.6, 0.0], size=(100))\n",
        "\n",
        "print(x)"
      ],
      "metadata": {
        "colab": {
          "base_uri": "https://localhost:8080/"
        },
        "id": "ZT8qVwfjBiyZ",
        "outputId": "66785906-6de3-4d2a-d6a8-27c0a1ea74e5"
      },
      "execution_count": null,
      "outputs": [
        {
          "output_type": "stream",
          "name": "stdout",
          "text": [
            "[5 7 7 5 5 7 7 3 3 5 5 7 7 7 5 7 5 3 7 3 5 7 3 7 7 5 3 5 7 7 7 7 5 5 3 7 7\n",
            " 7 5 7 5 7 7 7 7 7 3 7 5 7 7 7 5 5 7 7 7 3 7 7 7 7 7 7 5 3 5 7 5 5 5 3 7 5\n",
            " 7 7 3 5 7 7 5 7 7 7 7 7 3 5 7 3 5 3 7 7 7 3 5 3 7 7]\n"
          ]
        }
      ]
    },
    {
      "cell_type": "markdown",
      "source": [
        "The sum of all probability numbers should be 1.\n",
        "\n",
        "Even if you run the example above 100 times, the value 9 will never occur.\n",
        "\n",
        "You can return arrays of any shape and size by specifying the shape in the size parameter."
      ],
      "metadata": {
        "id": "lRyq15NIBxlC"
      }
    },
    {
      "cell_type": "code",
      "source": [
        "# Same example as above, but return a 2-D array with 3 rows, each containing 5 values.\n",
        "\n",
        "from numpy import random\n",
        "\n",
        "x = random.choice([3, 5, 7, 9], p=[0.1, 0.3, 0.6, 0.0], size=(3, 5))\n",
        "\n",
        "print(x)"
      ],
      "metadata": {
        "colab": {
          "base_uri": "https://localhost:8080/"
        },
        "id": "FOULRrQWBwYG",
        "outputId": "3584d423-1843-4de0-a86f-f9602ddb82cf"
      },
      "execution_count": null,
      "outputs": [
        {
          "output_type": "stream",
          "name": "stdout",
          "text": [
            "[[3 7 7 7 7]\n",
            " [5 7 7 5 7]\n",
            " [7 7 7 7 7]]\n"
          ]
        }
      ]
    },
    {
      "cell_type": "markdown",
      "source": [
        "**Random Permutations**\n",
        "\n",
        "\\\n",
        "\n",
        "**Random Permutations of Elements**\n",
        "\n",
        "A permutation refers to an arrangement of elements. e.g. [3, 2, 1] is a permutation of [1, 2, 3] and vice-versa.\n",
        "\n",
        "The NumPy Random module provides two methods for this: shuffle() and permutation().\n",
        "\n",
        "\\\n",
        "\n",
        "**Shuffling Arrays**\n",
        "\n",
        "Shuffle means changing arrangement of elements in-place. i.e. in the array itself."
      ],
      "metadata": {
        "id": "IHc8jD2zB2pZ"
      }
    },
    {
      "cell_type": "code",
      "source": [
        "# Randomly shuffle elements of following array:\n",
        "\n",
        "from numpy import random\n",
        "import numpy as np\n",
        "\n",
        "arr = np.array([1, 2, 3, 4, 5])\n",
        "\n",
        "random.shuffle(arr)\n",
        "\n",
        "print(arr)"
      ],
      "metadata": {
        "colab": {
          "base_uri": "https://localhost:8080/"
        },
        "id": "W-JOout-CBOE",
        "outputId": "a318bf6b-80e7-4729-cf7b-7a23443c77ea"
      },
      "execution_count": null,
      "outputs": [
        {
          "output_type": "stream",
          "name": "stdout",
          "text": [
            "[5 4 2 3 1]\n"
          ]
        }
      ]
    },
    {
      "cell_type": "code",
      "source": [
        "# Generating Permutation of Arrays\n",
        "\n",
        "# Generate a random permutation of elements of following array:\n",
        "\n",
        "from numpy import random\n",
        "import numpy as np\n",
        "\n",
        "arr = np.array([1, 2, 3, 4, 5])\n",
        "\n",
        "print(random.permutation(arr))"
      ],
      "metadata": {
        "colab": {
          "base_uri": "https://localhost:8080/"
        },
        "id": "lKCKTgdJCEqc",
        "outputId": "6e092d9a-6807-4563-bc18-73681646a1f3"
      },
      "execution_count": null,
      "outputs": [
        {
          "output_type": "stream",
          "name": "stdout",
          "text": [
            "[5 4 3 1 2]\n"
          ]
        }
      ]
    }
  ]
}