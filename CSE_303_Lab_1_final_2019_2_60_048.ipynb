{
  "nbformat": 4,
  "nbformat_minor": 0,
  "metadata": {
    "colab": {
      "provenance": []
    },
    "kernelspec": {
      "name": "python3",
      "display_name": "Python 3"
    },
    "language_info": {
      "name": "python"
    }
  },
  "cells": [
    {
      "cell_type": "markdown",
      "source": [
        "Question 1:"
      ],
      "metadata": {
        "id": "qxsHwUEpSjlh"
      }
    },
    {
      "cell_type": "code",
      "execution_count": null,
      "metadata": {
        "id": "-6OYnGgvPgcm",
        "colab": {
          "base_uri": "https://localhost:8080/"
        },
        "outputId": "29bf7075-eee7-4e0f-f876-db668da2bf2b"
      },
      "outputs": [
        {
          "output_type": "stream",
          "name": "stdout",
          "text": [
            "Enter the number: 21\n",
            "Enter the number:56\n",
            "15\n"
          ]
        }
      ],
      "source": [
        "a = int(input(\"Enter the number: \"))\n",
        "b = int(input(\"Enter the number:\"))\n",
        "c = a * b\n",
        "\n",
        "if c > 1000:\n",
        "  d = str(c)\n",
        "  result = 0\n",
        "  for i in range(len(d)):\n",
        "    result = result + int(d[i])\n",
        "  print(result)\n",
        "else:\n",
        "  print(c)"
      ]
    },
    {
      "cell_type": "markdown",
      "source": [
        "Question 2:"
      ],
      "metadata": {
        "id": "LFiaLDFeSrPU"
      }
    },
    {
      "cell_type": "code",
      "source": [
        "n = int(input(\"Enter the radous of circul: \"))\n",
        "pi = 3.1416\n",
        "area = pi * n * n\n",
        "par = 2 * pi * n\n",
        "print(\"Area: \",area)\n",
        "print(\"Parameter: \", par)"
      ],
      "metadata": {
        "colab": {
          "base_uri": "https://localhost:8080/"
        },
        "id": "h9SAqVHoSv5H",
        "outputId": "e8888ff8-7bfa-45cf-c5d3-dbcbe988c501"
      },
      "execution_count": null,
      "outputs": [
        {
          "output_type": "stream",
          "name": "stdout",
          "text": [
            "Enter the radous of circul: 5\n",
            "Area:  78.54\n",
            "Parameter:  31.416\n"
          ]
        }
      ]
    },
    {
      "cell_type": "markdown",
      "source": [
        "Question 3:"
      ],
      "metadata": {
        "id": "Psw_--29TrTD"
      }
    },
    {
      "cell_type": "code",
      "source": [
        "n = int(input(\"Enter a valid number: \"))\n",
        "if n <= 0:\n",
        "  print(\"Enter a valid number!\")\n",
        "else:\n",
        "  result = 0\n",
        "  for i in range(1, n+1):\n",
        "    print(i**2)\n",
        "    result = result + i * i\n",
        "  print(\"Total: \",result)"
      ],
      "metadata": {
        "colab": {
          "base_uri": "https://localhost:8080/"
        },
        "id": "PmPE8x_0TqiM",
        "outputId": "dc81f89e-567d-476d-fbae-1516b8fe1ac6"
      },
      "execution_count": null,
      "outputs": [
        {
          "output_type": "stream",
          "name": "stdout",
          "text": [
            "Enter a valid number: 4\n",
            "1\n",
            "4\n",
            "9\n",
            "16\n",
            "Total:  30\n"
          ]
        }
      ]
    },
    {
      "cell_type": "markdown",
      "source": [
        "Question 4:"
      ],
      "metadata": {
        "id": "T_Cgz9rfVE9v"
      }
    },
    {
      "cell_type": "code",
      "source": [
        "n = int(input(\"Enter a valid number: \"))\n",
        "if n <= 0:\n",
        "  print(\"Enter a valid number!\")\n",
        "else:\n",
        "  if n == 1:\n",
        "    print(\"Not Prime!\")\n",
        "  elif n == 2:\n",
        "    print(\"Prime Number!\")\n",
        "  else:\n",
        "    c = 0\n",
        "    for i in range(2, n-1):\n",
        "      if n % i == 0:\n",
        "        c = c + 1\n",
        "\n",
        "if c == 0:\n",
        "  print(\"Prime Number!\")\n",
        "else:\n",
        "  print(\"Not Prime Number!\")"
      ],
      "metadata": {
        "colab": {
          "base_uri": "https://localhost:8080/"
        },
        "id": "0_g7SS4MVEPQ",
        "outputId": "4271c53b-8e1f-4e64-ea8a-27ebf37a4b82"
      },
      "execution_count": null,
      "outputs": [
        {
          "output_type": "stream",
          "name": "stdout",
          "text": [
            "Enter a valid number: 1896\n",
            "Not Prime Number!\n"
          ]
        }
      ]
    },
    {
      "cell_type": "markdown",
      "source": [
        "Question 5:"
      ],
      "metadata": {
        "id": "HEQ12_McZkPi"
      }
    },
    {
      "cell_type": "code",
      "source": [
        "n = int(input(\"Enter the length: \"))\n",
        "myList = []\n",
        "for i in range(1, n+1):\n",
        "  x = int(input(\"Enter the value: \"))\n",
        "  myList.append(x)\n",
        "\n",
        "result = 0\n",
        "for i in range(len(myList)):\n",
        "  result = result + myList[i]\n",
        "\n",
        "print(result)\n"
      ],
      "metadata": {
        "colab": {
          "base_uri": "https://localhost:8080/"
        },
        "id": "b3VuBYVvX0Tq",
        "outputId": "a610e1fe-7315-4300-bf20-5bf08ddc696c"
      },
      "execution_count": null,
      "outputs": [
        {
          "output_type": "stream",
          "name": "stdout",
          "text": [
            "Enter the length: 3\n",
            "Enter the value: 1\n",
            "Enter the value: 2\n",
            "Enter the value: 3\n",
            "6\n"
          ]
        }
      ]
    },
    {
      "cell_type": "markdown",
      "source": [
        "Question 6:"
      ],
      "metadata": {
        "id": "eQRIF7CkcbgK"
      }
    },
    {
      "cell_type": "code",
      "source": [
        "n = int(input(\"Enter the length: \"))\n",
        "myList = []\n",
        "for i in range(1, n+1):\n",
        "  x = int(input(\"Enter the value: \"))\n",
        "  myList.append(x)\n",
        "\n",
        "result = 0\n",
        "for i in range(len(myList)):\n",
        "  if i % 2 == 0:\n",
        "    result = result + myList[i]\n",
        "\n",
        "print(result)\n"
      ],
      "metadata": {
        "colab": {
          "base_uri": "https://localhost:8080/"
        },
        "id": "ZjcZ0uqtcXZB",
        "outputId": "2e44d093-3ae6-4d5c-82e4-0c5c7892eb80"
      },
      "execution_count": null,
      "outputs": [
        {
          "output_type": "stream",
          "name": "stdout",
          "text": [
            "Enter the length: 3\n",
            "Enter the value: 1\n",
            "Enter the value: 2\n",
            "Enter the value: 3\n",
            "4\n"
          ]
        }
      ]
    },
    {
      "cell_type": "markdown",
      "source": [
        "Question 7:"
      ],
      "metadata": {
        "id": "ixdr2awsd5lp"
      }
    },
    {
      "cell_type": "code",
      "source": [
        "n = int(input(\"Enter the length: \"))\n",
        "myList = []\n",
        "for i in range(1, n+1):\n",
        "  x = int(input(\"Enter the value: \"))\n",
        "  myList.append(x)\n",
        "\n",
        "myList.sort()\n",
        "print(myList[-2])"
      ],
      "metadata": {
        "colab": {
          "base_uri": "https://localhost:8080/"
        },
        "id": "lCl62SGad4xK",
        "outputId": "9a98da8e-b60d-4c87-bcfa-d5422a25c285"
      },
      "execution_count": null,
      "outputs": [
        {
          "output_type": "stream",
          "name": "stdout",
          "text": [
            "Enter the length: 4\n",
            "Enter the value: 6\n",
            "Enter the value: 7\n",
            "Enter the value: 4\n",
            "Enter the value: 1\n",
            "6\n"
          ]
        }
      ]
    },
    {
      "cell_type": "markdown",
      "source": [
        "Question 8:"
      ],
      "metadata": {
        "id": "LRPC6ibaey9U"
      }
    },
    {
      "cell_type": "code",
      "source": [
        "n = int(input(\"Enter the length: \"))\n",
        "myList = []\n",
        "for i in range(1, n+1):\n",
        "  x = int(input(\"Enter the value: \"))\n",
        "  myList.append(x)\n",
        "\n",
        "finalList = []\n",
        "for i in range(len(myList)):\n",
        "  if i % 2 == 0:\n",
        "    finalList.append(myList[i])\n",
        "print(finalList)"
      ],
      "metadata": {
        "colab": {
          "base_uri": "https://localhost:8080/"
        },
        "id": "cZhDwPmreyV2",
        "outputId": "8ea1d90d-0b5c-44bc-dceb-fc3b10738ed4"
      },
      "execution_count": null,
      "outputs": [
        {
          "output_type": "stream",
          "name": "stdout",
          "text": [
            "Enter the length: 2\n",
            "Enter the value: 3\n",
            "Enter the value: 2\n",
            "[3]\n"
          ]
        }
      ]
    },
    {
      "cell_type": "markdown",
      "source": [
        "Question 9:"
      ],
      "metadata": {
        "id": "VgoqV-_-fmUV"
      }
    },
    {
      "cell_type": "code",
      "source": [
        "myString = str(input(\"Enter the string: \"))\n",
        "n = int(input(\"Enter the index number: \"))\n",
        "for i in range(len(myString)):\n",
        "  if n <= len(myString):\n",
        "    if i == n:\n",
        "      result = myString.replace(myString[i], \"\")\n",
        "else: \n",
        "  print(\"Enter a valid number!\")\n",
        "\n",
        "print(result)"
      ],
      "metadata": {
        "colab": {
          "base_uri": "https://localhost:8080/"
        },
        "id": "q43OMPSSflEt",
        "outputId": "9e684387-92b3-47ed-b94f-4be447f0b234"
      },
      "execution_count": null,
      "outputs": [
        {
          "output_type": "stream",
          "name": "stdout",
          "text": [
            "Enter the string: asdfgh\n",
            "Enter the index number: 5\n",
            "Enter a valid number!\n",
            "asdfg\n"
          ]
        }
      ]
    },
    {
      "cell_type": "markdown",
      "source": [
        "Question 10:"
      ],
      "metadata": {
        "id": "s5put2IWip2M"
      }
    },
    {
      "cell_type": "code",
      "source": [
        "myString = str(input(\"Enter the string: \"))\n",
        "sub = \"CSE303\"\n",
        "count = 0\n",
        "for i in range (0,len(myString)):\n",
        "   match = True\n",
        "   if sub[0]==myString[i]:\n",
        "     j=0\n",
        "     for j in range(0,len(sub)):\n",
        "         if sub[j]!=myString[i+j]:\n",
        "             match = False\n",
        "             print (\"No substring\")\n",
        "             break\n",
        "         else:\n",
        "             count=count+1\n",
        "             if match == True and count == len(sub):\n",
        "                 print (count)\n",
        "\n"
      ],
      "metadata": {
        "id": "ftUABeFXinqM",
        "colab": {
          "base_uri": "https://localhost:8080/"
        },
        "outputId": "be286454-1724-4705-ed93-636e6c489954"
      },
      "execution_count": 9,
      "outputs": [
        {
          "output_type": "stream",
          "name": "stdout",
          "text": [
            "Enter the string: CSE303asdf\n",
            "6\n"
          ]
        }
      ]
    },
    {
      "cell_type": "markdown",
      "source": [
        "Question 11:"
      ],
      "metadata": {
        "id": "jAVQ418jfJDY"
      }
    },
    {
      "cell_type": "code",
      "source": [
        "myString1 = str(input(\"Enter the string: \"))\n",
        "myString2 = str(input(\"Enter the string: \"))\n",
        "myString = []\n",
        "\n",
        "for i in range(len(myString1)):\n",
        "  if i%2!=0:\n",
        "    myString.append(myString1[i])\n",
        "    for j in range(i, len(myString2)):\n",
        "      if j%2==0:\n",
        "        myString.append(myString2[j])\n",
        "        break\n",
        "\n",
        "print(myString)"
      ],
      "metadata": {
        "colab": {
          "base_uri": "https://localhost:8080/"
        },
        "id": "ukqknIlzfOfR",
        "outputId": "1062471a-8d66-4ae6-b212-6a06506523b7"
      },
      "execution_count": null,
      "outputs": [
        {
          "output_type": "stream",
          "name": "stdout",
          "text": [
            "Enter the string: 123456\n",
            "Enter the string: asdfg\n",
            "['2', 'd', '4', 'g', '6']\n"
          ]
        }
      ]
    }
  ]
}